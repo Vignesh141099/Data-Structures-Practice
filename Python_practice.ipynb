{
  "nbformat": 4,
  "nbformat_minor": 0,
  "metadata": {
    "colab": {
      "name": "Python practice.ipynb",
      "provenance": [],
      "authorship_tag": "ABX9TyMac8OTze3MTuYgBNUfN0ut",
      "include_colab_link": true
    },
    "kernelspec": {
      "name": "python3",
      "display_name": "Python 3"
    },
    "language_info": {
      "name": "python"
    }
  },
  "cells": [
    {
      "cell_type": "markdown",
      "metadata": {
        "id": "view-in-github",
        "colab_type": "text"
      },
      "source": [
        "<a href=\"https://colab.research.google.com/github/Vignesh141099/Data-Structures-Practice/blob/main/Python_practice.ipynb\" target=\"_parent\"><img src=\"https://colab.research.google.com/assets/colab-badge.svg\" alt=\"Open In Colab\"/></a>"
      ]
    },
    {
      "cell_type": "markdown",
      "source": [
        "**DATA STRUCTURES OF PYTHON:**\n",
        "   \n",
        " \n",
        "\n",
        "\n"
      ],
      "metadata": {
        "id": "yu-7vgtXoxoF"
      }
    },
    {
      "cell_type": "markdown",
      "source": [
        "***SET***:\n",
        "* Set is a collection of unique elements of a data. \n",
        "* Set is unordered and unindexed\n",
        "* Set is written inside of {} brackets.\n"
      ],
      "metadata": {
        "id": "EI_rwmArMw5i"
      }
    },
    {
      "cell_type": "code",
      "source": [
        "# Creating a Set\n",
        "s= {5,62,0,'ajay','vishnu','ajay','62',False}\n",
        "s"
      ],
      "metadata": {
        "colab": {
          "base_uri": "https://localhost:8080/"
        },
        "id": "WEhKKuO1qaYk",
        "outputId": "ed2b8e01-b72c-4fb0-ef68-056108b48881"
      },
      "execution_count": 1,
      "outputs": [
        {
          "output_type": "execute_result",
          "data": {
            "text/plain": [
              "{0, 5, '62', 62, 'ajay', 'vishnu'}"
            ]
          },
          "metadata": {},
          "execution_count": 1
        }
      ]
    },
    {
      "cell_type": "markdown",
      "source": [
        "In the above while printing 's' we get the of collection of unique items from s.\n",
        "**Note:** False = 0 , so either False or zero will appear in the output"
      ],
      "metadata": {
        "id": "1L36lDipsHOi"
      }
    },
    {
      "cell_type": "code",
      "source": [
        "#DIR function which means it gives all the possible functions which we can use for a set\n",
        " \n",
        "dir(s)"
      ],
      "metadata": {
        "colab": {
          "base_uri": "https://localhost:8080/"
        },
        "id": "aWjwkeXgsJy9",
        "outputId": "fc51fcf1-7ddd-4a12-9a05-6e7e874bf8af"
      },
      "execution_count": 4,
      "outputs": [
        {
          "output_type": "execute_result",
          "data": {
            "text/plain": [
              "['__and__',\n",
              " '__class__',\n",
              " '__contains__',\n",
              " '__delattr__',\n",
              " '__dir__',\n",
              " '__doc__',\n",
              " '__eq__',\n",
              " '__format__',\n",
              " '__ge__',\n",
              " '__getattribute__',\n",
              " '__gt__',\n",
              " '__hash__',\n",
              " '__iand__',\n",
              " '__init__',\n",
              " '__init_subclass__',\n",
              " '__ior__',\n",
              " '__isub__',\n",
              " '__iter__',\n",
              " '__ixor__',\n",
              " '__le__',\n",
              " '__len__',\n",
              " '__lt__',\n",
              " '__ne__',\n",
              " '__new__',\n",
              " '__or__',\n",
              " '__rand__',\n",
              " '__reduce__',\n",
              " '__reduce_ex__',\n",
              " '__repr__',\n",
              " '__ror__',\n",
              " '__rsub__',\n",
              " '__rxor__',\n",
              " '__setattr__',\n",
              " '__sizeof__',\n",
              " '__str__',\n",
              " '__sub__',\n",
              " '__subclasshook__',\n",
              " '__xor__',\n",
              " 'add',\n",
              " 'clear',\n",
              " 'copy',\n",
              " 'difference',\n",
              " 'difference_update',\n",
              " 'discard',\n",
              " 'intersection',\n",
              " 'intersection_update',\n",
              " 'isdisjoint',\n",
              " 'issubset',\n",
              " 'issuperset',\n",
              " 'pop',\n",
              " 'remove',\n",
              " 'symmetric_difference',\n",
              " 'symmetric_difference_update',\n",
              " 'union',\n",
              " 'update']"
            ]
          },
          "metadata": {},
          "execution_count": 4
        }
      ]
    },
    {
      "cell_type": "markdown",
      "source": [
        "**add#** add an element to the s set."
      ],
      "metadata": {
        "id": "UnUj6lthtpey"
      }
    },
    {
      "cell_type": "code",
      "source": [
        "s= {5,62,0,'ajay','vishnu','ajay','62',False}\n",
        "s.add(\"16\")\n",
        "print(s)"
      ],
      "metadata": {
        "colab": {
          "base_uri": "https://localhost:8080/"
        },
        "id": "fQilVtg6txPL",
        "outputId": "78649c84-11f0-4bff-d5b1-c94d72bee880"
      },
      "execution_count": 82,
      "outputs": [
        {
          "output_type": "stream",
          "name": "stdout",
          "text": [
            "{0, '16', 5, 'ajay', 'vishnu', '62', 62}\n"
          ]
        }
      ]
    },
    {
      "cell_type": "markdown",
      "source": [
        "**clear#** Removes all the elements from the set."
      ],
      "metadata": {
        "id": "fnweKSmpuFde"
      }
    },
    {
      "cell_type": "code",
      "source": [
        "s= {5,62,0,'ajay','vishnu','ajay','62',False}\n",
        "s.clear()\n",
        "print(s)"
      ],
      "metadata": {
        "colab": {
          "base_uri": "https://localhost:8080/"
        },
        "id": "C64ljKy1uTjr",
        "outputId": "99af3b0d-9536-4386-99f1-c751c8d4a1de"
      },
      "execution_count": 83,
      "outputs": [
        {
          "output_type": "stream",
          "name": "stdout",
          "text": [
            "set()\n"
          ]
        }
      ]
    },
    {
      "cell_type": "markdown",
      "source": [
        "**copy#** gives the copy of a set"
      ],
      "metadata": {
        "id": "fc1c9whJuyl5"
      }
    },
    {
      "cell_type": "code",
      "source": [
        "# since I cleared our set in last command, so I again copied and pasted our old set,\n",
        "s= {5,62,0,'ajay','vishnu','ajay','62',False}\n",
        "set= s.copy()\n",
        "print(set)"
      ],
      "metadata": {
        "colab": {
          "base_uri": "https://localhost:8080/"
        },
        "id": "rgLIPboau8Zt",
        "outputId": "2ad38929-a2b1-40ef-dd49-755d2229a0ce"
      },
      "execution_count": 8,
      "outputs": [
        {
          "output_type": "stream",
          "name": "stdout",
          "text": [
            "{0, 'vishnu', 5, '62', 'ajay', 62}\n"
          ]
        }
      ]
    },
    {
      "cell_type": "markdown",
      "source": [
        "**difference#** Returns a set containing the difference between two or more sets"
      ],
      "metadata": {
        "id": "B3WGpB1Mw62d"
      }
    },
    {
      "cell_type": "code",
      "source": [
        "a = {1,5,9,11,15}\n",
        "b = {2,4,6,8,10}\n",
        "c= a.difference(b)\n",
        "print(c)"
      ],
      "metadata": {
        "colab": {
          "base_uri": "https://localhost:8080/"
        },
        "id": "BMGxz4MerbGr",
        "outputId": "0df136cc-37d1-44fc-cb1c-c03042d94a73"
      },
      "execution_count": 10,
      "outputs": [
        {
          "output_type": "stream",
          "name": "stdout",
          "text": [
            "{1, 5, 9, 11, 15}\n"
          ]
        }
      ]
    },
    {
      "cell_type": "markdown",
      "source": [
        "**difference_update#** it will removes the items in this set that are also included in another, specified set"
      ],
      "metadata": {
        "id": "niYnaR-_ya42"
      }
    },
    {
      "cell_type": "code",
      "source": [
        "a = {1,5,9,11,15}\n",
        "b = {2,4,6,8,10}\n",
        "a.difference_update(b)\n",
        "print(a)"
      ],
      "metadata": {
        "colab": {
          "base_uri": "https://localhost:8080/"
        },
        "id": "g30AoTYHydy1",
        "outputId": "2bfed93e-3b13-4ea4-a272-c9974669e6b1"
      },
      "execution_count": 13,
      "outputs": [
        {
          "output_type": "stream",
          "name": "stdout",
          "text": [
            "{1, 5, 9, 11, 15}\n"
          ]
        }
      ]
    },
    {
      "cell_type": "markdown",
      "source": [
        "**discard#** it will remove the specified item."
      ],
      "metadata": {
        "id": "FPfHqr4oyiGi"
      }
    },
    {
      "cell_type": "code",
      "source": [
        "set={0, 'vishnu', 5, '62', 'ajay', 62}\n",
        "set.discard('vishnu')\n",
        "print(set)"
      ],
      "metadata": {
        "colab": {
          "base_uri": "https://localhost:8080/"
        },
        "id": "VqCD3xRwxmgE",
        "outputId": "1a8588b3-b5b4-4a38-cef5-c3f590acce4b"
      },
      "execution_count": 84,
      "outputs": [
        {
          "output_type": "stream",
          "name": "stdout",
          "text": [
            "{0, 5, 'ajay', '62', 62}\n"
          ]
        }
      ]
    },
    {
      "cell_type": "markdown",
      "source": [
        "**intersection#** Returns a set, that is the intersection of two other sets."
      ],
      "metadata": {
        "id": "zBPKw7wIzVFU"
      }
    },
    {
      "cell_type": "code",
      "source": [
        "d={'ajay','vishnu','shan'}\n",
        "e={'vijay','anbu','ajay'}\n",
        "z=d.intersection(e)\n",
        "print(z)\n"
      ],
      "metadata": {
        "colab": {
          "base_uri": "https://localhost:8080/"
        },
        "id": "ytVnwFRszlec",
        "outputId": "aade5589-d93e-4828-ce0d-5acab1c61e4a"
      },
      "execution_count": 15,
      "outputs": [
        {
          "output_type": "stream",
          "name": "stdout",
          "text": [
            "{'ajay'}\n"
          ]
        }
      ]
    },
    {
      "cell_type": "markdown",
      "source": [
        "**intersection_update#** Removes the items in this set that are not present in other, specified sets"
      ],
      "metadata": {
        "id": "hareC6xK6UeA"
      }
    },
    {
      "cell_type": "code",
      "source": [
        "d={'ajay','vishnu','shan'}\n",
        "e={'vijay','anbu','ajay'}\n",
        "d.intersection_update(e)\n",
        "print(d)\n"
      ],
      "metadata": {
        "colab": {
          "base_uri": "https://localhost:8080/"
        },
        "id": "VT0Q7rGG6irk",
        "outputId": "4b6247cf-019e-40c8-ddde-fa127431a70f"
      },
      "execution_count": 35,
      "outputs": [
        {
          "output_type": "stream",
          "name": "stdout",
          "text": [
            "{'ajay'}\n"
          ]
        }
      ]
    },
    {
      "cell_type": "markdown",
      "source": [
        "**isdisjoint#**Returns whether two sets have a intersection or not"
      ],
      "metadata": {
        "id": "ecF70Rmj0DYi"
      }
    },
    {
      "cell_type": "code",
      "source": [
        "d={'ajay','vishnu','shan'}\n",
        "e={'vijay','anbu','ajay'}\n",
        "z=d.isdisjoint(e)\n",
        "print(z)"
      ],
      "metadata": {
        "colab": {
          "base_uri": "https://localhost:8080/"
        },
        "id": "IuFpaRtpx-gb",
        "outputId": "184d1343-c8bd-4b0c-ad2c-b551663863ef"
      },
      "execution_count": 85,
      "outputs": [
        {
          "output_type": "stream",
          "name": "stdout",
          "text": [
            "False\n"
          ]
        }
      ]
    },
    {
      "cell_type": "markdown",
      "source": [
        "**issubset#**Returns whether another set contains this set or not"
      ],
      "metadata": {
        "id": "qupRWK5i0fPK"
      }
    },
    {
      "cell_type": "code",
      "source": [
        "d={'ajay','vishnu','shan'}\n",
        "e={'vijay','anbu','ajay'}\n",
        "z=d.issubset(e)\n",
        "print(z)"
      ],
      "metadata": {
        "colab": {
          "base_uri": "https://localhost:8080/"
        },
        "id": "5LCIn-1U0nTI",
        "outputId": "48a99bad-03b9-45d8-f518-8af570e743ba"
      },
      "execution_count": 86,
      "outputs": [
        {
          "output_type": "stream",
          "name": "stdout",
          "text": [
            "False\n"
          ]
        }
      ]
    },
    {
      "cell_type": "markdown",
      "source": [
        "**issuperset#** Returns whether this set contains another set or not"
      ],
      "metadata": {
        "id": "H5Rg_jjz0tqV"
      }
    },
    {
      "cell_type": "code",
      "source": [
        "d={'ajay','vishnu','shan'}\n",
        "e={'vijay','anbu','ajay'}\n",
        "z=d.issuperset(e)\n",
        "print(z)"
      ],
      "metadata": {
        "colab": {
          "base_uri": "https://localhost:8080/"
        },
        "id": "_ETuV5U-01S5",
        "outputId": "99fcdcbc-67e8-4efa-ed2c-f021412a0bce"
      },
      "execution_count": 87,
      "outputs": [
        {
          "output_type": "stream",
          "name": "stdout",
          "text": [
            "False\n"
          ]
        }
      ]
    },
    {
      "cell_type": "markdown",
      "source": [
        "**pop#** Removes an element from the set"
      ],
      "metadata": {
        "id": "IXC1e7oK07J7"
      }
    },
    {
      "cell_type": "code",
      "source": [
        "ss={5,4,1,10}\n",
        "ss.pop()\n",
        "print(ss)"
      ],
      "metadata": {
        "colab": {
          "base_uri": "https://localhost:8080/"
        },
        "id": "-TFC4zEx1Ck7",
        "outputId": "f82411b4-a612-49fd-c9c4-8b1836601d1b"
      },
      "execution_count": 23,
      "outputs": [
        {
          "output_type": "stream",
          "name": "stdout",
          "text": [
            "{10, 4, 5}\n"
          ]
        }
      ]
    },
    {
      "cell_type": "markdown",
      "source": [
        "**remove#** Removes the specified element"
      ],
      "metadata": {
        "id": "D9f-eC5y2ADa"
      }
    },
    {
      "cell_type": "code",
      "source": [
        "ss={5,4,1,10}\n",
        "ss.remove(10)\n",
        "print(ss)"
      ],
      "metadata": {
        "colab": {
          "base_uri": "https://localhost:8080/"
        },
        "id": "r4eKMkwg2MSk",
        "outputId": "72cc3f2e-c163-4087-f8e8-994321953bde"
      },
      "execution_count": 24,
      "outputs": [
        {
          "output_type": "stream",
          "name": "stdout",
          "text": [
            "{4, 5}\n"
          ]
        }
      ]
    },
    {
      "cell_type": "markdown",
      "source": [
        "**symmetric_difference#** Returns a set with the symmetric differences of two sets\n",
        "\n",
        "\n",
        "\n"
      ],
      "metadata": {
        "id": "pmj2tit_5EvO"
      }
    },
    {
      "cell_type": "code",
      "source": [
        "d={'ajay','vishnu','shan'}\n",
        "e={'vijay','anbu','ajay'}\n",
        "z= d.symmetric_difference(e)\n",
        "print(z)"
      ],
      "metadata": {
        "colab": {
          "base_uri": "https://localhost:8080/"
        },
        "id": "Ln3Gtymm5J8v",
        "outputId": "3c6c0f3d-84ca-4274-d1d7-ee2cd3428972"
      },
      "execution_count": 25,
      "outputs": [
        {
          "output_type": "stream",
          "name": "stdout",
          "text": [
            "{'vijay', 'vishnu', 'anbu', 'shan'}\n"
          ]
        }
      ]
    },
    {
      "cell_type": "markdown",
      "source": [
        "**symmetric_difference_update#** inserts the symmetric differences from this set and another"
      ],
      "metadata": {
        "id": "M_m5T2nx5p2y"
      }
    },
    {
      "cell_type": "code",
      "source": [
        "d={'ajay','vishnu','shan'}\n",
        "e={'vijay','anbu','ajay'}\n",
        "d.symmetric_difference_update(e)\n",
        "print(d)"
      ],
      "metadata": {
        "colab": {
          "base_uri": "https://localhost:8080/"
        },
        "id": "-EAYtgqr56AP",
        "outputId": "9924b1fc-f86f-4f85-ca72-3a401a7a9af3"
      },
      "execution_count": 34,
      "outputs": [
        {
          "output_type": "stream",
          "name": "stdout",
          "text": [
            "{'vijay', 'vishnu', 'anbu', 'shan'}\n"
          ]
        }
      ]
    },
    {
      "cell_type": "markdown",
      "source": [
        "**union#** return a set that contains all items from both sets, duplicates not included"
      ],
      "metadata": {
        "id": "JXuPn44P62qL"
      }
    },
    {
      "cell_type": "code",
      "source": [
        "d={'ajay','vishnu','shan'}\n",
        "e={'vijay','anbu','ajay'}\n",
        "z= d.union(e)\n",
        "print(z)"
      ],
      "metadata": {
        "colab": {
          "base_uri": "https://localhost:8080/"
        },
        "id": "yjZddp5C7P7f",
        "outputId": "18040062-d749-4a57-903c-7ea26647f8d3"
      },
      "execution_count": 29,
      "outputs": [
        {
          "output_type": "stream",
          "name": "stdout",
          "text": [
            "{'vishnu', 'vijay', 'ajay', 'shan', 'anbu'}\n"
          ]
        }
      ]
    },
    {
      "cell_type": "markdown",
      "source": [
        "**update#** Insert the items from set e into set d."
      ],
      "metadata": {
        "id": "5JapvWRu7X8F"
      }
    },
    {
      "cell_type": "code",
      "source": [
        "d={'ajay','vishnu','shan'}\n",
        "e={'vijay','anbu','ajay'}\n",
        "d.update(e)\n",
        "print(d)"
      ],
      "metadata": {
        "colab": {
          "base_uri": "https://localhost:8080/"
        },
        "id": "j4gR0CHw7lxt",
        "outputId": "5dc1c5a2-3844-4506-c00b-f6d3a67329b2"
      },
      "execution_count": 33,
      "outputs": [
        {
          "output_type": "stream",
          "name": "stdout",
          "text": [
            "{'vishnu', 'vijay', 'ajay', 'shan', 'anbu'}\n"
          ]
        }
      ]
    },
    {
      "cell_type": "markdown",
      "source": [
        "**LIST:**  \n",
        "\n",
        "*   Lists are used to store multiple items in a single variable.\n",
        "*   Lists are muttable and indexed.\n",
        "*   Lists are created using [ ] brackets."
      ],
      "metadata": {
        "id": "kH-Oi9dj8-zI"
      }
    },
    {
      "cell_type": "code",
      "source": [
        "#LIST\n",
        "games = ['cricket','football','basket ball','tennis']\n",
        "games"
      ],
      "metadata": {
        "colab": {
          "base_uri": "https://localhost:8080/"
        },
        "id": "2yEGo97T9vaL",
        "outputId": "3cb91d40-bbcc-4d11-dc22-3829dacc5a92"
      },
      "execution_count": 42,
      "outputs": [
        {
          "output_type": "execute_result",
          "data": {
            "text/plain": [
              "['cricket', 'football', 'basket ball', 'tennis']"
            ]
          },
          "metadata": {},
          "execution_count": 42
        }
      ]
    },
    {
      "cell_type": "markdown",
      "source": [
        "**append#** Add an element to the list"
      ],
      "metadata": {
        "id": "cHzf18TE_QGP"
      }
    },
    {
      "cell_type": "code",
      "source": [
        "games.append('hockey')\n",
        "games"
      ],
      "metadata": {
        "colab": {
          "base_uri": "https://localhost:8080/"
        },
        "id": "Fpv6yAvv_RLp",
        "outputId": "e2cc6852-3bdc-4b5f-d90b-69b6aa9fa1ba"
      },
      "execution_count": 43,
      "outputs": [
        {
          "output_type": "execute_result",
          "data": {
            "text/plain": [
              "['cricket', 'football', 'basket ball', 'tennis', 'hockey']"
            ]
          },
          "metadata": {},
          "execution_count": 43
        }
      ]
    },
    {
      "cell_type": "markdown",
      "source": [
        "**copy#** copy the games list"
      ],
      "metadata": {
        "id": "xudbBK1G_lSf"
      }
    },
    {
      "cell_type": "code",
      "source": [
        "games = ['cricket','football','basket ball','tennis','hockey']\n",
        "games_copy = games.copy()\n",
        "games_copy"
      ],
      "metadata": {
        "colab": {
          "base_uri": "https://localhost:8080/"
        },
        "id": "RWbMZKpq_rzO",
        "outputId": "9b9e26ac-364d-4036-9f38-2c733c8ad44f"
      },
      "execution_count": 46,
      "outputs": [
        {
          "output_type": "execute_result",
          "data": {
            "text/plain": [
              "['cricket', 'football', 'basket ball', 'tennis', 'hockey']"
            ]
          },
          "metadata": {},
          "execution_count": 46
        }
      ]
    },
    {
      "cell_type": "markdown",
      "source": [
        "**count#** Returns the number of elements with the specified value"
      ],
      "metadata": {
        "id": "2fbfKQayAI9E"
      }
    },
    {
      "cell_type": "code",
      "source": [
        "games = ['cricket','football','basket ball','tennis','hockey']\n",
        "games.count('cricket')\n"
      ],
      "metadata": {
        "colab": {
          "base_uri": "https://localhost:8080/"
        },
        "id": "0gbykarOATHh",
        "outputId": "ad89f814-7c16-4995-a326-c349d1adaeed"
      },
      "execution_count": 47,
      "outputs": [
        {
          "output_type": "execute_result",
          "data": {
            "text/plain": [
              "1"
            ]
          },
          "metadata": {},
          "execution_count": 47
        }
      ]
    },
    {
      "cell_type": "markdown",
      "source": [
        "**extend#** Add the elements of a list, to the end of the current list."
      ],
      "metadata": {
        "id": "FR-btkYJAe_w"
      }
    },
    {
      "cell_type": "code",
      "source": [
        "games = ['cricket','football','basket ball','tennis','hockey']\n",
        "bike = ['FZ','Pulsar','Yamaha']\n",
        "games.extend(bike)\n",
        "games\n"
      ],
      "metadata": {
        "colab": {
          "base_uri": "https://localhost:8080/"
        },
        "id": "BbaZilWsAr2d",
        "outputId": "529236e9-5ab9-45da-e735-0e63fd98a003"
      },
      "execution_count": 51,
      "outputs": [
        {
          "output_type": "execute_result",
          "data": {
            "text/plain": [
              "['cricket',\n",
              " 'football',\n",
              " 'basket ball',\n",
              " 'tennis',\n",
              " 'hockey',\n",
              " 'FZ',\n",
              " 'Pulsar',\n",
              " 'Yamaha']"
            ]
          },
          "metadata": {},
          "execution_count": 51
        }
      ]
    },
    {
      "cell_type": "markdown",
      "source": [
        "**index#** Returns the index of the first element with the specified value"
      ],
      "metadata": {
        "id": "cNQCYzepBKXy"
      }
    },
    {
      "cell_type": "code",
      "source": [
        "games = ['cricket','football','basket ball','tennis','hockey']\n",
        "games.index('football')\n"
      ],
      "metadata": {
        "colab": {
          "base_uri": "https://localhost:8080/"
        },
        "id": "xhpsomS7BJd3",
        "outputId": "a683cc49-ada3-47c6-eaa0-124481d36953"
      },
      "execution_count": 52,
      "outputs": [
        {
          "output_type": "execute_result",
          "data": {
            "text/plain": [
              "1"
            ]
          },
          "metadata": {},
          "execution_count": 52
        }
      ]
    },
    {
      "cell_type": "markdown",
      "source": [
        "**insert#** Adds an element at the specified position"
      ],
      "metadata": {
        "id": "i4J3bnTgBdO-"
      }
    },
    {
      "cell_type": "code",
      "source": [
        "games = ['cricket','football','basket ball','tennis','hockey']\n",
        "games.insert(2,'cycling')\n",
        "games"
      ],
      "metadata": {
        "colab": {
          "base_uri": "https://localhost:8080/"
        },
        "id": "lvDk4Hxj_YlQ",
        "outputId": "59ee0e8c-a151-4175-ab85-705980a654d0"
      },
      "execution_count": 53,
      "outputs": [
        {
          "output_type": "execute_result",
          "data": {
            "text/plain": [
              "['cricket', 'football', 'cycling', 'basket ball', 'tennis', 'hockey']"
            ]
          },
          "metadata": {},
          "execution_count": 53
        }
      ]
    },
    {
      "cell_type": "markdown",
      "source": [
        "**pop#** Removes the element at the specified position"
      ],
      "metadata": {
        "id": "rWzROdYmB-YC"
      }
    },
    {
      "cell_type": "code",
      "source": [
        "games = ['cricket','football','basket ball','tennis','hockey']\n",
        "games.pop(2)\n",
        "games"
      ],
      "metadata": {
        "colab": {
          "base_uri": "https://localhost:8080/"
        },
        "id": "j9FVyzPMCEAi",
        "outputId": "0653cd24-fbb3-4dcb-d3d2-9fde95d6d187"
      },
      "execution_count": 54,
      "outputs": [
        {
          "output_type": "execute_result",
          "data": {
            "text/plain": [
              "['cricket', 'football', 'tennis', 'hockey']"
            ]
          },
          "metadata": {},
          "execution_count": 54
        }
      ]
    },
    {
      "cell_type": "markdown",
      "source": [
        "**remove#** Removes the item with the specified value"
      ],
      "metadata": {
        "id": "bhVfBS-NCS0D"
      }
    },
    {
      "cell_type": "code",
      "source": [
        "games = ['cricket','football','basket ball','tennis','hockey']\n",
        "games.remove('hockey')\n",
        "games"
      ],
      "metadata": {
        "colab": {
          "base_uri": "https://localhost:8080/"
        },
        "id": "4XqfcNOpCZmJ",
        "outputId": "bccb1436-5da7-4c3a-f185-b72a40e25c33"
      },
      "execution_count": 56,
      "outputs": [
        {
          "output_type": "execute_result",
          "data": {
            "text/plain": [
              "['cricket', 'football', 'basket ball', 'tennis']"
            ]
          },
          "metadata": {},
          "execution_count": 56
        }
      ]
    },
    {
      "cell_type": "markdown",
      "source": [
        "**reverse#** Reverses the order of the list"
      ],
      "metadata": {
        "id": "yhBEFlcECmsB"
      }
    },
    {
      "cell_type": "code",
      "source": [
        "games = ['cricket','football','basket ball','tennis','hockey']\n",
        "games.reverse()\n",
        "games"
      ],
      "metadata": {
        "colab": {
          "base_uri": "https://localhost:8080/"
        },
        "id": "-TjSvFN5CtE3",
        "outputId": "96ef95a3-02e8-4b96-becc-39f9f4f53268"
      },
      "execution_count": 57,
      "outputs": [
        {
          "output_type": "execute_result",
          "data": {
            "text/plain": [
              "['hockey', 'tennis', 'basket ball', 'football', 'cricket']"
            ]
          },
          "metadata": {},
          "execution_count": 57
        }
      ]
    },
    {
      "cell_type": "markdown",
      "source": [
        "**sort#** Sorts the list"
      ],
      "metadata": {
        "id": "a1q-O4LkDkuA"
      }
    },
    {
      "cell_type": "code",
      "source": [
        "games = ['cricket','football','basket ball','tennis','hockey']\n",
        "games.sort()\n",
        "games"
      ],
      "metadata": {
        "colab": {
          "base_uri": "https://localhost:8080/"
        },
        "id": "0uLsVUyQDwZE",
        "outputId": "b229a9de-67bc-427a-999c-7446b564052c"
      },
      "execution_count": 58,
      "outputs": [
        {
          "output_type": "execute_result",
          "data": {
            "text/plain": [
              "['basket ball', 'cricket', 'football', 'hockey', 'tennis']"
            ]
          },
          "metadata": {},
          "execution_count": 58
        }
      ]
    },
    {
      "cell_type": "markdown",
      "source": [
        "**clear#** clear all the values in the list\n"
      ],
      "metadata": {
        "id": "Q6cgykWHGwXO"
      }
    },
    {
      "cell_type": "code",
      "source": [
        "games = ['cricket','football','basket ball','tennis','hockey']\n",
        "games.clear()\n",
        "games"
      ],
      "metadata": {
        "colab": {
          "base_uri": "https://localhost:8080/"
        },
        "id": "6CC7fudqG2iR",
        "outputId": "a11a7aa6-8087-481a-8c52-a2091c8791f4"
      },
      "execution_count": 61,
      "outputs": [
        {
          "output_type": "execute_result",
          "data": {
            "text/plain": [
              "[]"
            ]
          },
          "metadata": {},
          "execution_count": 61
        }
      ]
    },
    {
      "cell_type": "markdown",
      "source": [
        "**TUPLES**: \n",
        "\n",
        "\n",
        "*   Tuples are used to store multiple items in a single variable.\n",
        "*   A tuple is a collection which is ordered and unchangeable.\n",
        "*   Tuples are written with ( ) brackets.\n",
        "\n",
        "\n",
        "\n",
        "\n"
      ],
      "metadata": {
        "id": "Fj4OujkYD8M9"
      }
    },
    {
      "cell_type": "markdown",
      "source": [
        "**count#** Returns the number of times a specified value occurs in a tuple"
      ],
      "metadata": {
        "id": "5lMTrY2gEzmj"
      }
    },
    {
      "cell_type": "code",
      "source": [
        "\n",
        "num=(5,7,8,9,5,13,5,11,13,43,5)\n",
        "x=num.count(5)\n",
        "x\n"
      ],
      "metadata": {
        "colab": {
          "base_uri": "https://localhost:8080/"
        },
        "id": "L15j7xb9Elq_",
        "outputId": "307140ef-53a1-4908-e5d1-47f6baec0aed"
      },
      "execution_count": 59,
      "outputs": [
        {
          "output_type": "execute_result",
          "data": {
            "text/plain": [
              "4"
            ]
          },
          "metadata": {},
          "execution_count": 59
        }
      ]
    },
    {
      "cell_type": "markdown",
      "source": [
        "**index#** Search for the first occurrence of the value, and return its position:"
      ],
      "metadata": {
        "id": "z6aSu1yuFiJu"
      }
    },
    {
      "cell_type": "code",
      "source": [
        "num=(5,7,8,9,5,13,5,11,13,43,5)\n",
        "num.index(5)\n"
      ],
      "metadata": {
        "colab": {
          "base_uri": "https://localhost:8080/"
        },
        "id": "gdYh9VfWFxxc",
        "outputId": "fa56e432-3730-47f8-b49e-261da51e6133"
      },
      "execution_count": 60,
      "outputs": [
        {
          "output_type": "execute_result",
          "data": {
            "text/plain": [
              "0"
            ]
          },
          "metadata": {},
          "execution_count": 60
        }
      ]
    },
    {
      "cell_type": "markdown",
      "source": [
        "**DICTIONARY:**\n",
        "\n",
        "\n",
        "* Dictionaries are used to store data values in key:value pairs.\n",
        "* A dictionary is ordered, changeable and do not allow duplicates.\n",
        "* Dictionaries are written with { } brackets.\n",
        "\n",
        "\n",
        "\n",
        "\n"
      ],
      "metadata": {
        "id": "vX_35xh_F44h"
      }
    },
    {
      "cell_type": "markdown",
      "source": [
        "**clear#** Remove all the elements from the dictionary."
      ],
      "metadata": {
        "id": "J2RFStx2HFAD"
      }
    },
    {
      "cell_type": "code",
      "source": [
        "keys = { \"key1\": \"lion\", \"key2\": \"tiger\", \"key3\": \"deer\"}\n",
        "keys.clear()\n",
        "keys\n"
      ],
      "metadata": {
        "colab": {
          "base_uri": "https://localhost:8080/"
        },
        "id": "nsny8JrNGbxY",
        "outputId": "da0e883d-da86-4d8f-b899-ea1b02f6e4d3"
      },
      "execution_count": 62,
      "outputs": [
        {
          "output_type": "execute_result",
          "data": {
            "text/plain": [
              "{}"
            ]
          },
          "metadata": {},
          "execution_count": 62
        }
      ]
    },
    {
      "cell_type": "markdown",
      "source": [
        "**copy#** Returns a copy of the dictionary"
      ],
      "metadata": {
        "id": "tXvyOqKzHy4G"
      }
    },
    {
      "cell_type": "code",
      "source": [
        "keys = { \"key1\": \"lion\", \"key2\": \"tiger\", \"key3\": \"deer\"}\n",
        "keys_copy = keys.copy()\n",
        "keys_copy"
      ],
      "metadata": {
        "colab": {
          "base_uri": "https://localhost:8080/"
        },
        "id": "7jtPNDvyH-K2",
        "outputId": "d1ade844-32a9-43c4-cfa3-53e6f087a702"
      },
      "execution_count": 63,
      "outputs": [
        {
          "output_type": "execute_result",
          "data": {
            "text/plain": [
              "{'key1': 'lion', 'key2': 'tiger', 'key3': 'deer'}"
            ]
          },
          "metadata": {},
          "execution_count": 63
        }
      ]
    },
    {
      "cell_type": "markdown",
      "source": [
        "**fromkeys#** Returns a dictionary with the specified keys and value"
      ],
      "metadata": {
        "id": "JPswTM-7IP30"
      }
    },
    {
      "cell_type": "code",
      "source": [
        "x = {'key1','key2','key3'}\n",
        "y = 5\n",
        "z = dict.fromkeys(x,y)\n",
        "z"
      ],
      "metadata": {
        "colab": {
          "base_uri": "https://localhost:8080/"
        },
        "id": "MwrdGIRYIWHf",
        "outputId": "8c792dee-6abe-4349-ef1b-9eb0a98ff2da"
      },
      "execution_count": 64,
      "outputs": [
        {
          "output_type": "execute_result",
          "data": {
            "text/plain": [
              "{'key1': 5, 'key3': 5, 'key2': 5}"
            ]
          },
          "metadata": {},
          "execution_count": 64
        }
      ]
    },
    {
      "cell_type": "markdown",
      "source": [
        "**get#** Returns the value of the specified key"
      ],
      "metadata": {
        "id": "7d9JEQktI7oy"
      }
    },
    {
      "cell_type": "code",
      "source": [
        "keys = { \"key1\": \"lion\", \"key2\": \"tiger\", \"key3\": \"deer\"}\n",
        "val= keys.get('key2')\n",
        "val\n"
      ],
      "metadata": {
        "colab": {
          "base_uri": "https://localhost:8080/",
          "height": 35
        },
        "id": "xhg7n-5TJB0p",
        "outputId": "dd0ed64a-eb15-48ac-b6c5-e971d227c012"
      },
      "execution_count": 65,
      "outputs": [
        {
          "output_type": "execute_result",
          "data": {
            "text/plain": [
              "'tiger'"
            ],
            "application/vnd.google.colaboratory.intrinsic+json": {
              "type": "string"
            }
          },
          "metadata": {},
          "execution_count": 65
        }
      ]
    },
    {
      "cell_type": "markdown",
      "source": [
        "**items#** Returns a list containing a tuple for each key value pair"
      ],
      "metadata": {
        "id": "rce1UnlzJSSB"
      }
    },
    {
      "cell_type": "code",
      "source": [
        "keys = { \"key1\": \"lion\", \"key2\": \"tiger\", \"key3\": \"deer\"}\n",
        "keys.items()\n"
      ],
      "metadata": {
        "colab": {
          "base_uri": "https://localhost:8080/"
        },
        "id": "e4-FfRIQJYTP",
        "outputId": "6314c6ea-7c63-4c59-8075-2c3948df4c0d"
      },
      "execution_count": 66,
      "outputs": [
        {
          "output_type": "execute_result",
          "data": {
            "text/plain": [
              "dict_items([('key1', 'lion'), ('key2', 'tiger'), ('key3', 'deer')])"
            ]
          },
          "metadata": {},
          "execution_count": 66
        }
      ]
    },
    {
      "cell_type": "markdown",
      "source": [
        "**pop#** Removes the element with the specified key"
      ],
      "metadata": {
        "id": "qlC73gD9Ji2K"
      }
    },
    {
      "cell_type": "code",
      "source": [
        "keys = { \"key1\": \"lion\", \"key2\": \"tiger\", \"key3\": \"deer\"}\n",
        "keys.pop(\"key1\")\n",
        "keys\n"
      ],
      "metadata": {
        "colab": {
          "base_uri": "https://localhost:8080/"
        },
        "id": "IZyS_qNWJtwh",
        "outputId": "5b462835-ba35-43ce-f9d3-dd0284b5ab2d"
      },
      "execution_count": 69,
      "outputs": [
        {
          "output_type": "execute_result",
          "data": {
            "text/plain": [
              "{'key2': 'tiger', 'key3': 'deer'}"
            ]
          },
          "metadata": {},
          "execution_count": 69
        }
      ]
    },
    {
      "cell_type": "markdown",
      "source": [
        "**popitem** Removes the last inserted key-value pair"
      ],
      "metadata": {
        "id": "xx4wj-HMJ_GK"
      }
    },
    {
      "cell_type": "code",
      "source": [
        "keys = { \"key1\": \"lion\", \"key2\": \"tiger\", \"key3\": \"deer\"}\n",
        "keys.popitem()\n",
        "keys"
      ],
      "metadata": {
        "colab": {
          "base_uri": "https://localhost:8080/"
        },
        "id": "R0nC_DZyKL43",
        "outputId": "0236b00c-40cd-485d-dc92-46e9c4020fe6"
      },
      "execution_count": 71,
      "outputs": [
        {
          "output_type": "execute_result",
          "data": {
            "text/plain": [
              "{'key1': 'lion', 'key2': 'tiger'}"
            ]
          },
          "metadata": {},
          "execution_count": 71
        }
      ]
    },
    {
      "cell_type": "markdown",
      "source": [
        "**default#** Returns the value of the specified key. If the key does not exist: insert the key, with the specified value."
      ],
      "metadata": {
        "id": "mIAnLkeJLgVJ"
      }
    },
    {
      "cell_type": "code",
      "source": [
        "keys = { \"key1\": \"lion\", \"key2\": \"tiger\", \"key3\": \"deer\"}\n",
        "f = keys.setdefault(\"key1\")\n",
        "f"
      ],
      "metadata": {
        "colab": {
          "base_uri": "https://localhost:8080/",
          "height": 35
        },
        "id": "ugTfx7hiKwq5",
        "outputId": "88168ded-5202-4ec7-8259-82ae96641fa5"
      },
      "execution_count": 76,
      "outputs": [
        {
          "output_type": "execute_result",
          "data": {
            "text/plain": [
              "'lion'"
            ],
            "application/vnd.google.colaboratory.intrinsic+json": {
              "type": "string"
            }
          },
          "metadata": {},
          "execution_count": 76
        }
      ]
    },
    {
      "cell_type": "markdown",
      "source": [
        "**update#** Updates the dictionary with the specified key-value pairs."
      ],
      "metadata": {
        "id": "XxefMCJyLvC_"
      }
    },
    {
      "cell_type": "code",
      "source": [
        "keys = { \"key1\": \"lion\", \"key2\": \"tiger\", \"key3\": \"deer\"}\n",
        "keys.update({\"key4\":\"monkey\"})\n",
        "keys"
      ],
      "metadata": {
        "colab": {
          "base_uri": "https://localhost:8080/"
        },
        "id": "hSbfwng6L5BA",
        "outputId": "e371ec0b-1815-4855-a97c-462f250a096f"
      },
      "execution_count": 78,
      "outputs": [
        {
          "output_type": "execute_result",
          "data": {
            "text/plain": [
              "{'key1': 'lion', 'key2': 'tiger', 'key3': 'deer', 'key4': 'monkey'}"
            ]
          },
          "metadata": {},
          "execution_count": 78
        }
      ]
    },
    {
      "cell_type": "markdown",
      "source": [
        "**values**# Returns a list of all the values in the dictionary"
      ],
      "metadata": {
        "id": "_Xd7MzNgMQQh"
      }
    },
    {
      "cell_type": "code",
      "source": [
        "keys = { \"key1\": \"lion\", \"key2\": \"tiger\", \"key3\": \"deer\"}\n",
        "keys.values()\n"
      ],
      "metadata": {
        "colab": {
          "base_uri": "https://localhost:8080/"
        },
        "id": "m5YqqENeMYO9",
        "outputId": "c245eaf7-f0e1-4381-dc2c-2646df0e1205"
      },
      "execution_count": 81,
      "outputs": [
        {
          "output_type": "execute_result",
          "data": {
            "text/plain": [
              "dict_values(['lion', 'tiger', 'deer'])"
            ]
          },
          "metadata": {},
          "execution_count": 81
        }
      ]
    },
    {
      "cell_type": "markdown",
      "source": [
        ""
      ],
      "metadata": {
        "id": "lOWB95-j-UX1"
      }
    }
  ]
}